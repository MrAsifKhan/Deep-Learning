{
  "cells": [
    {
      "cell_type": "markdown",
      "metadata": {
        "id": "view-in-github",
        "colab_type": "text"
      },
      "source": [
        "<a href=\"https://colab.research.google.com/github/MrAsifKhan/Deep-Learning/blob/main/Image_Deblurring_June_Exam.ipynb\" target=\"_parent\"><img src=\"https://colab.research.google.com/assets/colab-badge.svg\" alt=\"Open In Colab\"/></a>"
      ]
    },
    {
      "cell_type": "markdown",
      "metadata": {
        "id": "cAdE_w5Feghh"
      },
      "source": [
        "# Image Deblurring - June Exam"
      ]
    },
    {
      "cell_type": "markdown",
      "metadata": {
        "id": "wCXXMeknnPtm"
      },
      "source": [
        "### Dataset creation - DO NOT MODIFY"
      ]
    },
    {
      "cell_type": "code",
      "execution_count": 30,
      "metadata": {
        "id": "QENETSnCelG8"
      },
      "outputs": [],
      "source": [
        "#by Asif Khan Pattan :)\n",
        "    \n",
        "import tensorflow as tf \n",
        "import random\n",
        "from cv2 import GaussianBlur\n",
        "import numpy as np\n",
        "from tensorflow.keras import layers\n",
        "from tensorflow.keras.models import Model\n",
        "from tensorflow.keras.optimizers import Adam\n",
        "\n",
        "def getDataset():\n",
        "  (x_train, _), (x_test, _) = tf.keras.datasets.cifar10.load_data()\n",
        "  normalize = lambda x: x/x.max()\n",
        "  x_train = normalize(x_train)\n",
        "  x_test = normalize(x_test)\n",
        "  createBlurred = lambda arr: np.array([GaussianBlur(x, (5,5), ((random.random()*3)+1)) + (0.02*np.random.normal(0,1, (32, 32, 3))) for x in arr])\n",
        "  return (createBlurred(x_train), x_train), (createBlurred(x_test), x_test)\n",
        "\n",
        "\n"
      ]
    },
    {
      "cell_type": "code",
      "execution_count": 31,
      "metadata": {
        "colab": {
          "base_uri": "https://localhost:8080/"
        },
        "id": "z1wfx9VUXsAw",
        "outputId": "83c81c54-be20-453e-83bb-fbb71953e658"
      },
      "outputs": [
        {
          "output_type": "stream",
          "name": "stdout",
          "text": [
            "(50000, 3072)\n",
            "(10000, 3072)\n"
          ]
        }
      ],
      "source": [
        "(x_train, _), (x_test, _) = getDataset()\n",
        "num_pixels = x_train.shape[1] * x_train.shape[2]\n",
        "x_train = x_train.astype('float32') / 255.\n",
        "x_test = x_test.astype('float32') / 255.\n",
        "x_train = x_train.reshape((len(x_train), np.prod(x_train.shape[1:])))\n",
        "x_test = x_test.reshape((len(x_test), np.prod(x_test.shape[1:])))\n",
        "print(x_train.shape)\n",
        "print(x_test.shape)"
      ]
    },
    {
      "cell_type": "code",
      "source": [
        "from keras.models import Sequential\n",
        "from keras.layers import Dense\n",
        "\n",
        "#model creationn\n",
        "\n",
        "model = Sequential()\n",
        "model.add(layers.Input(shape=(x_train.shape[1],)))\n",
        "model.add(Dense(500, input_dim=num_pixels, activation='relu'))\n",
        "model.add(Dense(300, activation='relu'))\n",
        "model.add(Dense(100, activation='relu'))\n",
        "model.add(Dense(300, activation='relu'))\n",
        "model.add(Dense(500, activation='relu'))\n",
        "model.add(Dense(x_train.shape[1], activation='sigmoid'))"
      ],
      "metadata": {
        "id": "tikA9wDhYhuD"
      },
      "execution_count": 47,
      "outputs": []
    },
    {
      "cell_type": "code",
      "source": [
        "model.compile(loss='mean_squared_error', optimizer='adam')"
      ],
      "metadata": {
        "id": "9A3nhGotdFnc"
      },
      "execution_count": 48,
      "outputs": []
    },
    {
      "cell_type": "code",
      "source": [
        "autoencoder.summary()\n"
      ],
      "metadata": {
        "colab": {
          "base_uri": "https://localhost:8080/"
        },
        "id": "oKr11lf3YxL6",
        "outputId": "f92c7c94-15d6-4219-9e58-1c59b53c7d47"
      },
      "execution_count": 49,
      "outputs": [
        {
          "output_type": "stream",
          "name": "stdout",
          "text": [
            "Model: \"model_3\"\n",
            "_________________________________________________________________\n",
            " Layer (type)                Output Shape              Param #   \n",
            "=================================================================\n",
            " input_4 (InputLayer)        [(None, 3072)]            0         \n",
            "                                                                 \n",
            " dense_12 (Dense)            (None, 64)                196672    \n",
            "                                                                 \n",
            " dense_13 (Dense)            (None, 16)                1040      \n",
            "                                                                 \n",
            " dense_14 (Dense)            (None, 64)                1088      \n",
            "                                                                 \n",
            " dense_15 (Dense)            (None, 3072)              199680    \n",
            "                                                                 \n",
            "=================================================================\n",
            "Total params: 398,480\n",
            "Trainable params: 398,480\n",
            "Non-trainable params: 0\n",
            "_________________________________________________________________\n"
          ]
        }
      ]
    },
    {
      "cell_type": "code",
      "execution_count": 50,
      "metadata": {
        "colab": {
          "base_uri": "https://localhost:8080/"
        },
        "id": "k711BZ7pXsAz",
        "outputId": "23585722-fc2b-4595-c196-fd599d1d5334"
      },
      "outputs": [
        {
          "output_type": "stream",
          "name": "stdout",
          "text": [
            "Epoch 1/20\n",
            "196/196 [==============================] - 23s 113ms/step - loss: 0.0224 - val_loss: 4.2687e-06\n",
            "Epoch 2/20\n",
            "196/196 [==============================] - 22s 112ms/step - loss: 4.2240e-06 - val_loss: 4.2687e-06\n",
            "Epoch 3/20\n",
            "196/196 [==============================] - 22s 112ms/step - loss: 4.2240e-06 - val_loss: 4.2687e-06\n",
            "Epoch 4/20\n",
            "196/196 [==============================] - 22s 112ms/step - loss: 4.2240e-06 - val_loss: 4.2687e-06\n",
            "Epoch 5/20\n",
            "196/196 [==============================] - 24s 122ms/step - loss: 4.2240e-06 - val_loss: 4.2687e-06\n",
            "Epoch 6/20\n",
            "196/196 [==============================] - 25s 128ms/step - loss: 4.2240e-06 - val_loss: 4.2687e-06\n",
            "Epoch 7/20\n",
            "196/196 [==============================] - 23s 117ms/step - loss: 4.2240e-06 - val_loss: 4.2687e-06\n",
            "Epoch 8/20\n",
            "196/196 [==============================] - 22s 113ms/step - loss: 4.2240e-06 - val_loss: 4.2687e-06\n",
            "Epoch 9/20\n",
            "196/196 [==============================] - 24s 122ms/step - loss: 4.2240e-06 - val_loss: 4.2687e-06\n",
            "Epoch 10/20\n",
            "196/196 [==============================] - 22s 115ms/step - loss: 4.2240e-06 - val_loss: 4.2687e-06\n",
            "Epoch 11/20\n",
            "196/196 [==============================] - 23s 118ms/step - loss: 4.2240e-06 - val_loss: 4.2687e-06\n",
            "Epoch 12/20\n",
            "196/196 [==============================] - 22s 111ms/step - loss: 4.2240e-06 - val_loss: 4.2687e-06\n",
            "Epoch 13/20\n",
            "196/196 [==============================] - 22s 111ms/step - loss: 4.2240e-06 - val_loss: 4.2687e-06\n",
            "Epoch 14/20\n",
            "196/196 [==============================] - 22s 110ms/step - loss: 4.2240e-06 - val_loss: 4.2687e-06\n",
            "Epoch 15/20\n",
            "196/196 [==============================] - 22s 110ms/step - loss: 4.2240e-06 - val_loss: 4.2687e-06\n",
            "Epoch 16/20\n",
            "196/196 [==============================] - 22s 111ms/step - loss: 4.2240e-06 - val_loss: 4.2687e-06\n",
            "Epoch 17/20\n",
            "196/196 [==============================] - 22s 111ms/step - loss: 4.2240e-06 - val_loss: 4.2687e-06\n",
            "Epoch 18/20\n",
            "196/196 [==============================] - 22s 112ms/step - loss: 4.2240e-06 - val_loss: 4.2687e-06\n",
            "Epoch 19/20\n",
            "196/196 [==============================] - 22s 112ms/step - loss: 4.2240e-06 - val_loss: 4.2687e-06\n",
            "Epoch 20/20\n",
            "196/196 [==============================] - 24s 121ms/step - loss: 4.2240e-06 - val_loss: 4.2687e-06\n"
          ]
        },
        {
          "output_type": "execute_result",
          "data": {
            "text/plain": [
              "<keras.callbacks.History at 0x7fbcce387d10>"
            ]
          },
          "metadata": {},
          "execution_count": 50
        }
      ],
      "source": [
        "model.fit(x_train, x_train,\n",
        "                epochs=20,\n",
        "                batch_size=256,\n",
        "                shuffle=True,\n",
        "                validation_data=(x_test, x_test))"
      ]
    },
    {
      "cell_type": "code",
      "source": [
        "\n",
        "decoded_imgs = model.predict(x_test)"
      ],
      "metadata": {
        "id": "hWm7Cx9ffbu4"
      },
      "execution_count": 54,
      "outputs": []
    },
    {
      "cell_type": "code",
      "source": [
        "import matplotlib.pyplot as plt\n",
        "\n",
        "n = 5 #no images to plot\n",
        "imgs = np.random.randint(low=0,high=10000,size=n)\n",
        "plt.figure(figsize=(20, 4))\n",
        "for (i,idx) in enumerate(imgs):\n",
        "    # display original\n",
        "    ax = plt.subplot(2, n, i + 1)\n",
        "    plt.imshow(x_test[idx].reshape(28, 28))\n",
        "    plt.gray()\n",
        "    ax.get_xaxis().set_visible(False)\n",
        "    ax.get_yaxis().set_visible(False)\n",
        "\n",
        "    # display reconstruction\n",
        "    ax = plt.subplot(2, n, i + 1 + n)\n",
        "    plt.imshow(decoded_imgs[idx].reshape(28, 28))\n",
        "    plt.gray()\n",
        "    ax.get_xaxis().set_visible(False)\n",
        "    ax.get_yaxis().set_visible(False)\n",
        "plt.show()"
      ],
      "metadata": {
        "id": "xHHQ2GKifk2V"
      },
      "execution_count": null,
      "outputs": []
    }
  ],
  "metadata": {
    "colab": {
      "collapsed_sections": [],
      "name": "Image Deblurring - June Exam.ipynb",
      "provenance": [],
      "include_colab_link": true
    },
    "kernelspec": {
      "display_name": "Python 3",
      "language": "python",
      "name": "python3"
    },
    "language_info": {
      "codemirror_mode": {
        "name": "ipython",
        "version": 3
      },
      "file_extension": ".py",
      "mimetype": "text/x-python",
      "name": "python",
      "nbconvert_exporter": "python",
      "pygments_lexer": "ipython3",
      "version": "3.6.4"
    }
  },
  "nbformat": 4,
  "nbformat_minor": 0
}